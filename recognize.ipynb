{
 "cells": [
  {
   "cell_type": "code",
   "execution_count": null,
   "metadata": {},
   "outputs": [],
   "source": [
    "from recognize import recognize_handwriting"
   ]
  },
  {
   "cell_type": "code",
   "execution_count": null,
   "metadata": {},
   "outputs": [],
   "source": [
    "stroke_path = \"data/strokes.npy\"\n",
    "model_path = \"save/handwriting_recognition_last_epoch_N.pt\"\n",
    "char_to_code_path = \"char_to_code_recognition.pt\"\n",
    "hidden_size = 256"
   ]
  },
  {
   "cell_type": "code",
   "execution_count": null,
   "metadata": {},
   "outputs": [],
   "source": [
    "unique_texts = recognize_handwriting(\n",
    "    stroke_path=stroke_path,\n",
    "    model_path=model_path,\n",
    "    char_to_code_path=char_to_code_path,\n",
    "    hidden_size=hidden_size\n",
    ")"
   ]
  },
  {
   "cell_type": "code",
   "execution_count": null,
   "metadata": {},
   "outputs": [],
   "source": [
    "# Display results\n",
    "print(\"Unique Recognized Texts:\")\n",
    "for text in unique_texts:\n",
    "    print(text)"
   ]
  }
 ],
 "metadata": {
  "language_info": {
   "name": "python"
  }
 },
 "nbformat": 4,
 "nbformat_minor": 2
}
